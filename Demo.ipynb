{
 "cells": [
  {
   "cell_type": "code",
   "execution_count": null,
   "metadata": {},
   "outputs": [],
   "source": [
    "import json\n",
    "import pprint\n",
    "import time\n",
    "\n",
    "import requests"
   ]
  },
  {
   "cell_type": "code",
   "execution_count": null,
   "metadata": {},
   "outputs": [],
   "source": [
    "# Get all regions' names.\n",
    "query = '''{\n",
    "    Region {\n",
    "        name @output(out_name: \"region_name\")\n",
    "    }\n",
    "}'''\n",
    "\n",
    "args = {}"
   ]
  },
  {
   "cell_type": "code",
   "execution_count": null,
   "metadata": {},
   "outputs": [],
   "source": [
    "# Get all the parent regions of the \"Great Sept of Baelor\" region.\n",
    "query = '''{\n",
    "    Region @filter(op_name: \"name_or_alias\", value: [\"$region\"]) {\n",
    "        out_Has_Parent_Region {\n",
    "            out_Has_Parent_Region @recurse(depth: 10) {\n",
    "                name @output(out_name: \"parent_region\")\n",
    "            }\n",
    "        }\n",
    "    }\n",
    "}'''\n",
    "\n",
    "args = {\n",
    "    'region': 'Great Sept of Baelor'\n",
    "}"
   ]
  },
  {
   "cell_type": "code",
   "execution_count": null,
   "metadata": {},
   "outputs": [],
   "source": [
    "# Get all the people that live in The Riverlands.\n",
    "query = '''{\n",
    "    Region @filter(op_name: \"name_or_alias\", value: [\"$region\"]) {        \n",
    "        in_Has_Parent_Region @recurse(depth: 10) {\n",
    "            name @output(out_name: \"region_name\")\n",
    "            \n",
    "            in_Lives_In {\n",
    "                name @output(out_name: \"character_name\")\n",
    "                \n",
    "                out_Owes_Allegiance_To @fold {\n",
    "                    ... on NobleHouse {\n",
    "                        name @output(out_name: \"loyal_to_noble_houses\")\n",
    "                    }\n",
    "                }\n",
    "            }\n",
    "        }\n",
    "    }\n",
    "}'''\n",
    "\n",
    "args = {\n",
    "    'region': 'The Riverlands',\n",
    "}"
   ]
  },
  {
   "cell_type": "code",
   "execution_count": null,
   "metadata": {},
   "outputs": [],
   "source": [
    "# Get everyone that Sansa Stark owes allegiance to.\n",
    "query = '''{\n",
    "    Character @filter(op_name: \"name_or_alias\", value: [\"$character\"]) {\n",
    "        out_Owes_Allegiance_To @fold {\n",
    "            name @output(out_name: \"allegiances\")\n",
    "        }\n",
    "    }\n",
    "}'''\n",
    "\n",
    "args = {\n",
    "    'character': 'Sansa Stark',\n",
    "}"
   ]
  },
  {
   "cell_type": "code",
   "execution_count": null,
   "metadata": {
    "scrolled": false
   },
   "outputs": [],
   "source": [
    "payload = {\n",
    "    'query': query,\n",
    "    'args': args,\n",
    "}\n",
    "\n",
    "start = time.time()\n",
    "response = requests.post('http://localhost:5000/graphql', data=json.dumps(payload))\n",
    "end = time.time()\n",
    "\n",
    "response_data = json.loads(response.text)\n",
    "print 'Received response in: {}s'.format(end - start)\n",
    "\n",
    "print 'Input metadata:'\n",
    "pprint.pprint(response_data['input_metadata'])\n",
    "\n",
    "print '\\nOutput metadata:'\n",
    "pprint.pprint(response_data['output_metadata'])\n",
    "\n",
    "print '\\nOutput data:'\n",
    "pprint.pprint(response_data['output_data'])"
   ]
  }
 ],
 "metadata": {
  "kernelspec": {
   "display_name": "Python 2",
   "language": "python",
   "name": "python2"
  },
  "language_info": {
   "codemirror_mode": {
    "name": "ipython",
    "version": 2
   },
   "file_extension": ".py",
   "mimetype": "text/x-python",
   "name": "python",
   "nbconvert_exporter": "python",
   "pygments_lexer": "ipython2",
   "version": "2.7.14"
  }
 },
 "nbformat": 4,
 "nbformat_minor": 2
}
