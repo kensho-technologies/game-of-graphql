{
 "cells": [
  {
   "cell_type": "code",
   "execution_count": 22,
   "metadata": {},
   "outputs": [],
   "source": [
    "import json\n",
    "import pprint\n",
    "import time\n",
    "\n",
    "from IPython.display import HTML, display\n",
    "import requests\n",
    "import tabulate\n",
    "\n",
    "\n",
    "def pretty_print_result(result):\n",
    "    return display(HTML(tabulate.tabulate(result, headers='keys', tablefmt='html')))"
   ]
  },
  {
   "cell_type": "code",
   "execution_count": 9,
   "metadata": {},
   "outputs": [],
   "source": [
    "# Get all regions' names.\n",
    "query = '''{\n",
    "    Region {\n",
    "        name @output(out_name: \"region_name\")\n",
    "    }\n",
    "}'''\n",
    "\n",
    "args = {}"
   ]
  },
  {
   "cell_type": "code",
   "execution_count": 3,
   "metadata": {},
   "outputs": [],
   "source": [
    "query = '''{\n",
    "    NobleHouse {\n",
    "        name @output(out_name: \"house\") @tag(tag_name: \"h\")\n",
    "        \n",
    "        out_Has_Seat {\n",
    "            name @filter(op_name: \"has_substring\", value: [\"%h\"]) @output(out_name: \"region\")\n",
    "        }\n",
    "    }\n",
    "}'''\n",
    "\n",
    "args = {}"
   ]
  },
  {
   "cell_type": "code",
   "execution_count": 4,
   "metadata": {},
   "outputs": [],
   "source": [
    "# Get all the parent regions of the \"Great Sept of Baelor\" region.\n",
    "query = '''{\n",
    "    Region @filter(op_name: \"name_or_alias\", value: [\"$region\"]) {\n",
    "        out_Has_Parent_Region {\n",
    "            out_Has_Parent_Region @recurse(depth: 10) {\n",
    "                name @output(out_name: \"parent_region\")\n",
    "            }\n",
    "        }\n",
    "    }\n",
    "}'''\n",
    "\n",
    "args = {\n",
    "    'region': 'Great Sept of Baelor'\n",
    "}"
   ]
  },
  {
   "cell_type": "code",
   "execution_count": 16,
   "metadata": {},
   "outputs": [],
   "source": [
    "# Get all the people that live in The Riverlands.\n",
    "query = '''{\n",
    "    Region @filter(op_name: \"name_or_alias\", value: [\"$region\"]) {        \n",
    "        in_Has_Parent_Region @recurse(depth: 10) {\n",
    "            name @output(out_name: \"region_name\")\n",
    "            \n",
    "            in_Lives_In {\n",
    "                name @output(out_name: \"character_name\")\n",
    "                \n",
    "                out_Owes_Allegiance_To @fold {\n",
    "                    ... on NobleHouse {\n",
    "                        name @output(out_name: \"loyal_to_noble_houses\")\n",
    "                    }\n",
    "                }\n",
    "            }\n",
    "        }\n",
    "    }\n",
    "}'''\n",
    "\n",
    "args = {\n",
    "    'region': 'The Riverlands',\n",
    "}"
   ]
  },
  {
   "cell_type": "code",
   "execution_count": 6,
   "metadata": {},
   "outputs": [],
   "source": [
    "# Get everyone that Sansa Stark owes allegiance to.\n",
    "query = '''{\n",
    "    Character @filter(op_name: \"name_or_alias\", value: [\"$character\"]) {\n",
    "        out_Owes_Allegiance_To @fold {\n",
    "            __typename @output(out_name: \"allegiance_type\")\n",
    "            name @output(out_name: \"allegiances\")\n",
    "        }\n",
    "    }\n",
    "}'''\n",
    "\n",
    "args = {\n",
    "    'character': 'Sansa Stark',\n",
    "}"
   ]
  },
  {
   "cell_type": "code",
   "execution_count": 21,
   "metadata": {
    "scrolled": false
   },
   "outputs": [
    {
     "name": "stdout",
     "output_type": "stream",
     "text": [
      "Received response in: 0.05844593048095703s\n",
      "\n",
      "Input metadata:\n",
      "{'region': 'String'}\n",
      "\n",
      "Output metadata:\n",
      "{'character_name': {'optional': False, 'type': 'String'},\n",
      " 'loyal_to_noble_houses': {'optional': False, 'type': '[String]'},\n",
      " 'region_name': {'optional': False, 'type': 'String'}}\n",
      "\n",
      "Output data:\n"
     ]
    },
    {
     "data": {
      "text/html": [
       "<table>\n",
       "<thead>\n",
       "<tr><th>loyal_to_noble_houses        </th><th>region_name    </th><th>character_name  </th></tr>\n",
       "</thead>\n",
       "<tbody>\n",
       "<tr><td>['Tully', 'Mallister']       </td><td>Seagard        </td><td>Jaremy Mallister</td></tr>\n",
       "<tr><td>Mallister                    </td><td>Seagard        </td><td>Denys Mallister </td></tr>\n",
       "<tr><td>Whent                        </td><td>Harrenhal      </td><td>Oswell Whent    </td></tr>\n",
       "<tr><td>['Tully', 'Whent']           </td><td>Harrenhal      </td><td>Minisa Tully    </td></tr>\n",
       "<tr><td>['Stark', 'Reed']            </td><td>Greywater Watch</td><td>Jojen Reed      </td></tr>\n",
       "<tr><td>['Reed', 'Stark']            </td><td>Greywater Watch</td><td>Howland Reed    </td></tr>\n",
       "<tr><td>Bracken                      </td><td>Stone Hedge    </td><td>Jonos Bracken   </td></tr>\n",
       "<tr><td>Bracken                      </td><td>Stone Hedge    </td><td>Wyllis Bracken  </td></tr>\n",
       "<tr><td>Wells                        </td><td>Stoney Sept    </td><td>Corlys Wells    </td></tr>\n",
       "<tr><td>Frey                         </td><td>The Twins      </td><td>Walder Frey     </td></tr>\n",
       "<tr><td>Frey                         </td><td>The Twins      </td><td>Arwaya Frey     </td></tr>\n",
       "<tr><td>Frey                         </td><td>The Twins      </td><td>Walder Rivers   </td></tr>\n",
       "<tr><td>Frey                         </td><td>The Twins      </td><td>Walda Frey      </td></tr>\n",
       "<tr><td>Frey                         </td><td>The Twins      </td><td>Marianne Frey   </td></tr>\n",
       "<tr><td>['Frey', 'Bolton']           </td><td>The Twins      </td><td>Walda Bolton    </td></tr>\n",
       "<tr><td>Frey                         </td><td>The Twins      </td><td>Serra Frey      </td></tr>\n",
       "<tr><td>Frey                         </td><td>The Twins      </td><td>Freya Frey      </td></tr>\n",
       "<tr><td>Frey                         </td><td>The Twins      </td><td>Waldra Frey     </td></tr>\n",
       "<tr><td>Frey                         </td><td>The Twins      </td><td>Shirei Frey     </td></tr>\n",
       "<tr><td>Frey                         </td><td>The Twins      </td><td>Janeya Frey     </td></tr>\n",
       "<tr><td>['Frey', 'Tully']            </td><td>The Twins      </td><td>Roslin Frey     </td></tr>\n",
       "<tr><td>Frey                         </td><td>The Twins      </td><td>Sarra Frey      </td></tr>\n",
       "<tr><td>Frey                         </td><td>The Twins      </td><td>Waldron Frey    </td></tr>\n",
       "<tr><td>Frey                         </td><td>The Twins      </td><td>Lothar Frey     </td></tr>\n",
       "<tr><td>Frey                         </td><td>The Twins      </td><td>Merry Frey      </td></tr>\n",
       "<tr><td>Frey                         </td><td>The Twins      </td><td>Derwa Frey      </td></tr>\n",
       "<tr><td>Frey                         </td><td>The Twins      </td><td>Neyela Frey     </td></tr>\n",
       "<tr><td>Tully                        </td><td>Riverrun       </td><td>Hoster Tully    </td></tr>\n",
       "<tr><td>['Stark', 'Tully']           </td><td>Riverrun       </td><td>Edmure Tully    </td></tr>\n",
       "<tr><td>['Arryn', 'Tully', 'Baelish']</td><td>Riverrun       </td><td>Lysa Arryn      </td></tr>\n",
       "<tr><td>Tully                        </td><td>Riverrun       </td><td>Brynden Tully   </td></tr>\n",
       "<tr><td>['Tully', 'Stark']           </td><td>Riverrun       </td><td>Catelyn Stark   </td></tr>\n",
       "<tr><td>[]                           </td><td>Acorn Hall     </td><td>Pypar           </td></tr>\n",
       "</tbody>\n",
       "</table>"
      ],
      "text/plain": [
       "<IPython.core.display.HTML object>"
      ]
     },
     "metadata": {},
     "output_type": "display_data"
    }
   ],
   "source": [
    "payload = {\n",
    "    'query': query,\n",
    "    'args': args,\n",
    "}\n",
    "\n",
    "start = time.time()\n",
    "response = requests.post('http://localhost:5000/graphql', data=json.dumps(payload))\n",
    "end = time.time()\n",
    "\n",
    "response_data = json.loads(response.text)\n",
    "print('Received response in: {}s'.format(end - start))\n",
    "\n",
    "print('\\nInput metadata:')\n",
    "pprint.pprint(response_data['input_metadata'])\n",
    "\n",
    "print('\\nOutput metadata:')\n",
    "pprint.pprint(response_data['output_metadata'])\n",
    "\n",
    "print('\\nOutput data:')\n",
    "pretty_print_result(response_data['output_data'])"
   ]
  }
 ],
 "metadata": {
  "kernelspec": {
   "display_name": "Python 3",
   "language": "python",
   "name": "python3"
  },
  "language_info": {
   "codemirror_mode": {
    "name": "ipython",
    "version": 3
   },
   "file_extension": ".py",
   "mimetype": "text/x-python",
   "name": "python",
   "nbconvert_exporter": "python",
   "pygments_lexer": "ipython3",
   "version": "3.7.3"
  }
 },
 "nbformat": 4,
 "nbformat_minor": 2
}
