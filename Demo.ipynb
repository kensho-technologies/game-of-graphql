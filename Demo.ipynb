{
 "cells": [
  {
   "cell_type": "code",
   "execution_count": 1,
   "metadata": {},
   "outputs": [],
   "source": [
    "import json\n",
    "import pprint\n",
    "import time\n",
    "\n",
    "from IPython.display import HTML, display\n",
    "import requests\n",
    "import tabulate\n",
    "\n",
    "\n",
    "def pretty_print_result(result):\n",
    "    return display(HTML(tabulate.tabulate(result, headers='keys', tablefmt='html')))"
   ]
  },
  {
   "cell_type": "code",
   "execution_count": 2,
   "metadata": {},
   "outputs": [],
   "source": [
    "# Get all regions' names.\n",
    "query = '''{\n",
    "    Region {\n",
    "        name @output(out_name: \"region_name\")\n",
    "    }\n",
    "}'''\n",
    "\n",
    "args = {}"
   ]
  },
  {
   "cell_type": "code",
   "execution_count": 3,
   "metadata": {},
   "outputs": [],
   "source": [
    "query = '''{\n",
    "    NobleHouse {\n",
    "        name @output(out_name: \"house\") @tag(tag_name: \"h\")\n",
    "        \n",
    "        out_Has_Seat {\n",
    "            name @filter(op_name: \"has_substring\", value: [\"%h\"]) @output(out_name: \"region\")\n",
    "        }\n",
    "    }\n",
    "}'''\n",
    "\n",
    "args = {}"
   ]
  },
  {
   "cell_type": "code",
   "execution_count": 4,
   "metadata": {},
   "outputs": [],
   "source": [
    "# Get all the parent regions of the \"Great Sept of Baelor\" region.\n",
    "query = '''{\n",
    "    Region @filter(op_name: \"name_or_alias\", value: [\"$region\"]) {\n",
    "        out_Has_Parent_Region {\n",
    "            out_Has_Parent_Region @recurse(depth: 10) {\n",
    "                name @output(out_name: \"parent_region\")\n",
    "            }\n",
    "        }\n",
    "    }\n",
    "}'''\n",
    "\n",
    "args = {\n",
    "    'region': 'Great Sept of Baelor'\n",
    "}"
   ]
  },
  {
   "cell_type": "code",
   "execution_count": 5,
   "metadata": {},
   "outputs": [],
   "source": [
    "# Get all the people that live in The Riverlands.\n",
    "query = '''{\n",
    "    Region @filter(op_name: \"name_or_alias\", value: [\"$region\"]) {        \n",
    "        in_Has_Parent_Region @recurse(depth: 10) {\n",
    "            name @output(out_name: \"region_name\")\n",
    "            \n",
    "            in_Lives_In {\n",
    "                name @output(out_name: \"character_name\")\n",
    "                \n",
    "                out_Owes_Allegiance_To @fold {\n",
    "                    ... on NobleHouse {\n",
    "                        name @output(out_name: \"loyal_to_noble_houses\")\n",
    "                    }\n",
    "                }\n",
    "            }\n",
    "        }\n",
    "    }\n",
    "}'''\n",
    "\n",
    "args = {\n",
    "    'region': 'The Riverlands',\n",
    "}"
   ]
  },
  {
   "cell_type": "code",
   "execution_count": 6,
   "metadata": {},
   "outputs": [],
   "source": [
    "# Get everyone that Sansa Stark owes allegiance to.\n",
    "query = '''{\n",
    "    Character @filter(op_name: \"name_or_alias\", value: [\"$character\"]) {\n",
    "        out_Owes_Allegiance_To @fold {\n",
    "            __typename @output(out_name: \"allegiance_type\")\n",
    "            name @output(out_name: \"allegiances\")\n",
    "        }\n",
    "    }\n",
    "}'''\n",
    "\n",
    "args = {\n",
    "    'character': 'Sansa Stark',\n",
    "}"
   ]
  },
  {
   "cell_type": "code",
   "execution_count": 11,
   "metadata": {},
   "outputs": [],
   "source": [
    "# Get all the characters with allegiances to at least three noble houses.\n",
    "query = '''{\n",
    "    Character {\n",
    "        name @output(out_name: \"character\")\n",
    "        out_Owes_Allegiance_To @fold {\n",
    "            ... on NobleHouse {\n",
    "                _x_count @filter(op_name: \">=\", value: [\"$min_allegiances\"])\n",
    "                name @output(out_name: \"allegiances\")\n",
    "            }\n",
    "        }\n",
    "    }\n",
    "}'''\n",
    "\n",
    "args = {\n",
    "    'min_allegiances': 3\n",
    "}"
   ]
  },
  {
   "cell_type": "code",
   "execution_count": 12,
   "metadata": {
    "scrolled": false
   },
   "outputs": [
    {
     "name": "stdout",
     "output_type": "stream",
     "text": [
      "Received response in: 0.09920573234558105s\n",
      "\n",
      "Input metadata:\n",
      "{'min_allegiances': 'Int'}\n",
      "\n",
      "Output metadata:\n",
      "{'allegiances': {'optional': False, 'type': '[String]'},\n",
      " 'character': {'optional': False, 'type': 'String'}}\n",
      "\n",
      "Output data:\n"
     ]
    },
    {
     "data": {
      "text/html": [
       "<table>\n",
       "<thead>\n",
       "<tr><th>allegiances                                           </th><th>character        </th></tr>\n",
       "</thead>\n",
       "<tbody>\n",
       "<tr><td>[\"Baratheon of King's Landing\", 'Tyrell', 'Baratheon']</td><td>Margaery Tyrell  </td></tr>\n",
       "<tr><td>['Greyjoy', 'Bolton', 'Stark']                        </td><td>Theon Greyjoy    </td></tr>\n",
       "<tr><td>['Forrester', 'Degore', 'Whitehill']                  </td><td>Royland Degore   </td></tr>\n",
       "<tr><td>['Arryn', 'Baelish', 'Tully']                         </td><td>Lysa Arryn       </td></tr>\n",
       "<tr><td>['Baratheon', 'Stark', 'Tarth', 'Tully']              </td><td>Brienne of Tarth </td></tr>\n",
       "<tr><td>['Branfield', 'Targaryen', 'Forrester']               </td><td>Malcolm Branfield</td></tr>\n",
       "<tr><td>['Bolton', 'Stark', 'Lannister']                      </td><td>Sansa Stark      </td></tr>\n",
       "</tbody>\n",
       "</table>"
      ],
      "text/plain": [
       "<IPython.core.display.HTML object>"
      ]
     },
     "metadata": {},
     "output_type": "display_data"
    }
   ],
   "source": [
    "payload = {\n",
    "    'query': query,\n",
    "    'args': args,\n",
    "}\n",
    "\n",
    "start = time.time()\n",
    "response = requests.post('http://localhost:5000/graphql', data=json.dumps(payload))\n",
    "end = time.time()\n",
    "\n",
    "response_data = json.loads(response.text)\n",
    "print('Received response in: {}s'.format(end - start))\n",
    "\n",
    "print('\\nInput metadata:')\n",
    "pprint.pprint(response_data['input_metadata'])\n",
    "\n",
    "print('\\nOutput metadata:')\n",
    "pprint.pprint(response_data['output_metadata'])\n",
    "\n",
    "print('\\nOutput data:')\n",
    "pretty_print_result(response_data['output_data'])"
   ]
  }
 ],
 "metadata": {
  "kernelspec": {
   "display_name": "Python 3",
   "language": "python",
   "name": "python3"
  },
  "language_info": {
   "codemirror_mode": {
    "name": "ipython",
    "version": 3
   },
   "file_extension": ".py",
   "mimetype": "text/x-python",
   "name": "python",
   "nbconvert_exporter": "python",
   "pygments_lexer": "ipython3",
   "version": "3.7.3"
  }
 },
 "nbformat": 4,
 "nbformat_minor": 2
}
