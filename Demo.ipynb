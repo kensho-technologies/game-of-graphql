{
 "cells": [
  {
   "cell_type": "code",
   "execution_count": 1,
   "metadata": {},
   "outputs": [],
   "source": [
    "import json\n",
    "import pprint\n",
    "import time\n",
    "\n",
    "from IPython.display import HTML, display\n",
    "import requests\n",
    "import tabulate\n",
    "\n",
    "\n",
    "def pretty_print_result(result):\n",
    "    return display(HTML(tabulate.tabulate(result, headers='keys', tablefmt='html')))"
   ]
  },
  {
   "cell_type": "code",
   "execution_count": 2,
   "metadata": {},
   "outputs": [],
   "source": [
    "# Get all regions' names.\n",
    "query = '''{\n",
    "    Region {\n",
    "        name @output(out_name: \"region_name\")\n",
    "    }\n",
    "}'''\n",
    "\n",
    "args = {}"
   ]
  },
  {
   "cell_type": "code",
   "execution_count": 3,
   "metadata": {},
   "outputs": [],
   "source": [
    "query = '''{\n",
    "    NobleHouse {\n",
    "        name @output(out_name: \"house\") @tag(tag_name: \"h\")\n",
    "        \n",
    "        out_Has_Seat {\n",
    "            name @filter(op_name: \"has_substring\", value: [\"%h\"]) @output(out_name: \"region\")\n",
    "        }\n",
    "    }\n",
    "}'''\n",
    "\n",
    "args = {}"
   ]
  },
  {
   "cell_type": "code",
   "execution_count": 4,
   "metadata": {},
   "outputs": [],
   "source": [
    "# Get all the parent regions of the \"Great Sept of Baelor\" region.\n",
    "query = '''{\n",
    "    Region @filter(op_name: \"name_or_alias\", value: [\"$region\"]) {\n",
    "        out_Has_Parent_Region {\n",
    "            out_Has_Parent_Region @recurse(depth: 10) {\n",
    "                name @output(out_name: \"parent_region\")\n",
    "            }\n",
    "        }\n",
    "    }\n",
    "}'''\n",
    "\n",
    "args = {\n",
    "    'region': 'Great Sept of Baelor'\n",
    "}"
   ]
  },
  {
   "cell_type": "code",
   "execution_count": 5,
   "metadata": {},
   "outputs": [],
   "source": [
    "# Get all the people that live in The Riverlands.\n",
    "query = '''{\n",
    "    Region @filter(op_name: \"name_or_alias\", value: [\"$region\"]) {        \n",
    "        in_Has_Parent_Region @recurse(depth: 10) {\n",
    "            name @output(out_name: \"region_name\")\n",
    "            \n",
    "            in_Lives_In {\n",
    "                name @output(out_name: \"character_name\")\n",
    "                \n",
    "                out_Owes_Allegiance_To @fold {\n",
    "                    ... on NobleHouse {\n",
    "                        name @output(out_name: \"loyal_to_noble_houses\")\n",
    "                    }\n",
    "                }\n",
    "            }\n",
    "        }\n",
    "    }\n",
    "}'''\n",
    "\n",
    "args = {\n",
    "    'region': 'The Riverlands',\n",
    "}"
   ]
  },
  {
   "cell_type": "code",
   "execution_count": 6,
   "metadata": {},
   "outputs": [],
   "source": [
    "# Get everyone that Sansa Stark owes allegiance to.\n",
    "query = '''{\n",
    "    Character @filter(op_name: \"name_or_alias\", value: [\"$character\"]) {\n",
    "        out_Owes_Allegiance_To @fold {\n",
    "            __typename @output(out_name: \"allegiance_type\")\n",
    "            name @output(out_name: \"allegiances\")\n",
    "        }\n",
    "    }\n",
    "}'''\n",
    "\n",
    "args = {\n",
    "    'character': 'Sansa Stark',\n",
    "}"
   ]
  },
  {
   "cell_type": "code",
   "execution_count": 7,
   "metadata": {},
   "outputs": [],
   "source": [
    "# Get all the characters with allegiances to more than one noble house.\n",
    "query = '''{\n",
    "    Character {\n",
    "        name @output(out_name: \"character\")\n",
    "        out_Owes_Allegiance_To @fold {\n",
    "            ... on NobleHouse {\n",
    "                _x_count @filter(op_name: \">=\", value: [\"$min_allegiances\"])\n",
    "                name @output(out_name: \"allegiances\")\n",
    "            }\n",
    "        }\n",
    "    }\n",
    "}'''\n",
    "\n",
    "args = {\n",
    "    'min_allegiances': 2\n",
    "}"
   ]
  },
  {
   "cell_type": "code",
   "execution_count": null,
   "metadata": {
    "scrolled": false
   },
   "outputs": [],
   "source": [
    "payload = {\n",
    "    'query': query,\n",
    "    'args': args,\n",
    "}\n",
    "\n",
    "start = time.time()\n",
    "response = requests.post('http://localhost:5000/graphql', data=json.dumps(payload))\n",
    "end = time.time()\n",
    "\n",
    "print(response.text)\n",
    "\n",
    "response_data = json.loads(response.text)\n",
    "print('Received response in: {}s'.format(end - start))\n",
    "\n",
    "print('\\nInput metadata:')\n",
    "pprint.pprint(response_data['input_metadata'])\n",
    "\n",
    "print('\\nOutput metadata:')\n",
    "pprint.pprint(response_data['output_metadata'])\n",
    "\n",
    "print('\\nOutput data:')\n",
    "pretty_print_result(response_data['output_data'])"
   ]
  }
 ],
 "metadata": {
  "kernelspec": {
   "display_name": "Python 3",
   "language": "python",
   "name": "python3"
  },
  "language_info": {
   "codemirror_mode": {
    "name": "ipython",
    "version": 3
   },
   "file_extension": ".py",
   "mimetype": "text/x-python",
   "name": "python",
   "nbconvert_exporter": "python",
   "pygments_lexer": "ipython3",
   "version": "3.7.3"
  }
 },
 "nbformat": 4,
 "nbformat_minor": 2
}
